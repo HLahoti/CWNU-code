{
 "cells": [
  {
   "cell_type": "code",
   "execution_count": 1,
   "metadata": {},
   "outputs": [],
   "source": [
    "import os"
   ]
  },
  {
   "cell_type": "code",
   "execution_count": 16,
   "metadata": {},
   "outputs": [],
   "source": [
    "folder = \"test\"\n",
    "start = 1"
   ]
  },
  {
   "cell_type": "code",
   "execution_count": 12,
   "metadata": {},
   "outputs": [],
   "source": [
    "file_names = os.listdir(f\"{folder}_HR\")\n",
    "new_file_names = [str(i).zfill(4)+\".jpg\" for i in range(start,len(file_names)+start)]\n",
    "for i in range(len(file_names)):\n",
    "    os.rename(f\"./{folder}_HR/{file_names[i]}\",f\"./{folder}_HR/{new_file_names[i]}\")\n",
    "    os.rename(f\"./{folder}_LR/{file_names[i]}\",f\"./{folder}_LR/{new_file_names[i]}\")\n",
    "start+=len(file_names)"
   ]
  },
  {
   "cell_type": "code",
   "execution_count": 13,
   "metadata": {},
   "outputs": [],
   "source": [
    "folder = \"valid\""
   ]
  },
  {
   "cell_type": "code",
   "execution_count": 14,
   "metadata": {},
   "outputs": [],
   "source": [
    "file_names = os.listdir(f\"{folder}_HR\")\n",
    "new_file_names = [str(i).zfill(4)+\".jpg\" for i in range(start,len(file_names)+start)]\n",
    "for i in range(len(file_names)):\n",
    "    os.rename(f\"./{folder}_HR/{file_names[i]}\",f\"./{folder}_HR/{new_file_names[i]}\")\n",
    "    os.rename(f\"./{folder}_LR/{file_names[i]}\",f\"./{folder}_LR/{new_file_names[i]}\")"
   ]
  },
  {
   "cell_type": "code",
   "execution_count": null,
   "metadata": {},
   "outputs": [],
   "source": []
  }
 ],
 "metadata": {
  "kernelspec": {
   "display_name": ".venv",
   "language": "python",
   "name": "python3"
  },
  "language_info": {
   "codemirror_mode": {
    "name": "ipython",
    "version": 3
   },
   "file_extension": ".py",
   "mimetype": "text/x-python",
   "name": "python",
   "nbconvert_exporter": "python",
   "pygments_lexer": "ipython3",
   "version": "3.10.11"
  }
 },
 "nbformat": 4,
 "nbformat_minor": 2
}
